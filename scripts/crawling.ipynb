{
 "cells": [
  {
   "metadata": {},
   "cell_type": "markdown",
   "source": "여기부터 하면 됨",
   "id": "3bc74e32df886f7b"
  },
  {
   "metadata": {
    "ExecuteTime": {
     "end_time": "2024-11-07T07:35:43.048209Z",
     "start_time": "2024-11-07T07:35:43.018428Z"
    }
   },
   "cell_type": "code",
   "source": [
    "import pandas as pd\n",
    "\n",
    "store = pd.read_csv(\"../dataset/store2.csv\", encoding='utf-8')\n",
    "# pd.set_option(\"display.max_rows\", None)\n",
    "store.업태명.value_counts()"
   ],
   "id": "88c8841a187156eb",
   "outputs": [
    {
     "data": {
      "text/plain": [
       "업태명\n",
       "한식                 2507\n",
       "기타                 1107\n",
       "커피숍                 937\n",
       "호프/통닭               590\n",
       "분식                  519\n",
       "일반조리판매              361\n",
       "편의점                 343\n",
       "기타 휴게음식점            324\n",
       "일식                  286\n",
       "경양식                 275\n",
       "정종/대포집/소주방          257\n",
       "중국식                 239\n",
       "통닭(치킨)              209\n",
       "패스트푸드               144\n",
       "식육(숯불구이)            100\n",
       "까페                   88\n",
       "횟집                   70\n",
       "외국음식전문점(인도,태국등)      36\n",
       "뷔페식                  30\n",
       "아이스크림                20\n",
       "키즈카페                 13\n",
       "다방                   12\n",
       "김밥(도시락)              11\n",
       "탕류(보신용)              10\n",
       "과자점                   8\n",
       "복어취급                  6\n",
       "출장조리                  5\n",
       "패밀리레스트랑               5\n",
       "라이브카페                 4\n",
       "떡카페                   4\n",
       "냉면집                   2\n",
       "백화점                   2\n",
       "철도역구내                 2\n",
       "푸드트럭                  2\n",
       "Name: count, dtype: int64"
      ]
     },
     "execution_count": 93,
     "metadata": {},
     "output_type": "execute_result"
    }
   ],
   "execution_count": 93
  },
  {
   "metadata": {
    "ExecuteTime": {
     "end_time": "2024-11-07T07:35:45.583604Z",
     "start_time": "2024-11-07T07:35:45.576239Z"
    }
   },
   "cell_type": "code",
   "source": [
    "drop_conditions = ['편의점', '푸드트럭', '출장조리', '라이브카페']\n",
    "print(f\"삭제 이전 : {len(store)}행\")\n",
    "\n",
    "store = store[~store.업태명.isin(drop_conditions)]\n",
    "print(f\"삭제 이후 : {len(store)}행\")\n",
    "\n",
    "store.업태명.value_counts()"
   ],
   "id": "452a0e7e1764e379",
   "outputs": [
    {
     "name": "stdout",
     "output_type": "stream",
     "text": [
      "삭제 이전 : 8528행\n",
      "삭제 이후 : 8174행\n"
     ]
    },
    {
     "data": {
      "text/plain": [
       "업태명\n",
       "한식                 2507\n",
       "기타                 1107\n",
       "커피숍                 937\n",
       "호프/통닭               590\n",
       "분식                  519\n",
       "일반조리판매              361\n",
       "기타 휴게음식점            324\n",
       "일식                  286\n",
       "경양식                 275\n",
       "정종/대포집/소주방          257\n",
       "중국식                 239\n",
       "통닭(치킨)              209\n",
       "패스트푸드               144\n",
       "식육(숯불구이)            100\n",
       "까페                   88\n",
       "횟집                   70\n",
       "외국음식전문점(인도,태국등)      36\n",
       "뷔페식                  30\n",
       "아이스크림                20\n",
       "키즈카페                 13\n",
       "다방                   12\n",
       "김밥(도시락)              11\n",
       "탕류(보신용)              10\n",
       "과자점                   8\n",
       "복어취급                  6\n",
       "패밀리레스트랑               5\n",
       "떡카페                   4\n",
       "냉면집                   2\n",
       "백화점                   2\n",
       "철도역구내                 2\n",
       "Name: count, dtype: int64"
      ]
     },
     "execution_count": 94,
     "metadata": {},
     "output_type": "execute_result"
    }
   ],
   "execution_count": 94
  },
  {
   "metadata": {
    "ExecuteTime": {
     "end_time": "2024-11-08T00:26:47.225003Z",
     "start_time": "2024-11-08T00:26:47.021431Z"
    }
   },
   "cell_type": "code",
   "source": [
    "import time\n",
    "import warnings\n",
    "warnings.filterwarnings('ignore')\n",
    "\n",
    "from selenium import webdriver\n",
    "from selenium.webdriver.common.keys import Keys\n",
    "from selenium.webdriver.common.by import By\n",
    "from bs4 import BeautifulSoup"
   ],
   "id": "a9acf8d62d6a1bb0",
   "outputs": [],
   "execution_count": 2
  },
  {
   "metadata": {
    "ExecuteTime": {
     "end_time": "2024-11-07T05:39:13.241272Z",
     "start_time": "2024-11-07T05:39:13.233894Z"
    }
   },
   "cell_type": "code",
   "source": [
    "\n",
    "# store.loc[store.addr == \"서울특별시 동작구 흑석동 223-1 \", '업소명']\n",
    "\n",
    "sample = store[:100]\n",
    "sample.tail()"
   ],
   "id": "dbcd9b77a308aa34",
   "outputs": [
    {
     "data": {
      "text/plain": [
       "      업종명       인허가일자             업소명                      소재지(도로명)  \\\n",
       "95  일반음식점  1989-08-17      불난떡볶이 노량진점    서울특별시 동작구 노량진로8길 36 (노량진동)   \n",
       "96  일반음식점  1989-11-07         밀숲노량진역점   서울특별시 동작구 만양로14길 6-1 (노량진동)   \n",
       "97  일반음식점  1989-06-19            한강호프                           NaN   \n",
       "98  일반음식점  1989-01-13  뚝배기 양평해장국 신대방점  서울특별시 동작구 보라매로 99, 1층 (신대방동)   \n",
       "99  일반음식점  1989-03-17       원조꼬끼오숯불통닭      서울특별시 동작구 서달로10길 6 (흑석동)   \n",
       "\n",
       "                      addr  영업장면적(건물내_외부)         업태명   담당부서     데이터기준일자  \\\n",
       "95  서울특별시 동작구 노량진동 258-40           27.17          한식  보건행정과  2024-08-19   \n",
       "96   서울특별시 동작구 노량진동 123-8           40.56       호프/통닭  보건행정과  2024-08-19   \n",
       "97    서울특별시 동작구 흑석동 33-91           24.30  정종/대포집/소주방  보건행정과  2024-08-19   \n",
       "98   서울특별시 동작구 신대방동 350-9           60.66    식육(숯불구이)  보건행정과  2024-08-19   \n",
       "99    서울특별시 동작구 흑석동 86-74           22.44      통닭(치킨)  보건행정과  2024-08-19   \n",
       "\n",
       "     latitude   longitude  \n",
       "95  37.512459  126.937252  \n",
       "96  37.511337  126.944868  \n",
       "97  37.505836  126.969822  \n",
       "98  37.498165  126.927781  \n",
       "99  37.506435  126.961666  "
      ],
      "text/html": [
       "<div>\n",
       "<style scoped>\n",
       "    .dataframe tbody tr th:only-of-type {\n",
       "        vertical-align: middle;\n",
       "    }\n",
       "\n",
       "    .dataframe tbody tr th {\n",
       "        vertical-align: top;\n",
       "    }\n",
       "\n",
       "    .dataframe thead th {\n",
       "        text-align: right;\n",
       "    }\n",
       "</style>\n",
       "<table border=\"1\" class=\"dataframe\">\n",
       "  <thead>\n",
       "    <tr style=\"text-align: right;\">\n",
       "      <th></th>\n",
       "      <th>업종명</th>\n",
       "      <th>인허가일자</th>\n",
       "      <th>업소명</th>\n",
       "      <th>소재지(도로명)</th>\n",
       "      <th>addr</th>\n",
       "      <th>영업장면적(건물내_외부)</th>\n",
       "      <th>업태명</th>\n",
       "      <th>담당부서</th>\n",
       "      <th>데이터기준일자</th>\n",
       "      <th>latitude</th>\n",
       "      <th>longitude</th>\n",
       "    </tr>\n",
       "  </thead>\n",
       "  <tbody>\n",
       "    <tr>\n",
       "      <th>95</th>\n",
       "      <td>일반음식점</td>\n",
       "      <td>1989-08-17</td>\n",
       "      <td>불난떡볶이 노량진점</td>\n",
       "      <td>서울특별시 동작구 노량진로8길 36 (노량진동)</td>\n",
       "      <td>서울특별시 동작구 노량진동 258-40</td>\n",
       "      <td>27.17</td>\n",
       "      <td>한식</td>\n",
       "      <td>보건행정과</td>\n",
       "      <td>2024-08-19</td>\n",
       "      <td>37.512459</td>\n",
       "      <td>126.937252</td>\n",
       "    </tr>\n",
       "    <tr>\n",
       "      <th>96</th>\n",
       "      <td>일반음식점</td>\n",
       "      <td>1989-11-07</td>\n",
       "      <td>밀숲노량진역점</td>\n",
       "      <td>서울특별시 동작구 만양로14길 6-1 (노량진동)</td>\n",
       "      <td>서울특별시 동작구 노량진동 123-8</td>\n",
       "      <td>40.56</td>\n",
       "      <td>호프/통닭</td>\n",
       "      <td>보건행정과</td>\n",
       "      <td>2024-08-19</td>\n",
       "      <td>37.511337</td>\n",
       "      <td>126.944868</td>\n",
       "    </tr>\n",
       "    <tr>\n",
       "      <th>97</th>\n",
       "      <td>일반음식점</td>\n",
       "      <td>1989-06-19</td>\n",
       "      <td>한강호프</td>\n",
       "      <td>NaN</td>\n",
       "      <td>서울특별시 동작구 흑석동 33-91</td>\n",
       "      <td>24.30</td>\n",
       "      <td>정종/대포집/소주방</td>\n",
       "      <td>보건행정과</td>\n",
       "      <td>2024-08-19</td>\n",
       "      <td>37.505836</td>\n",
       "      <td>126.969822</td>\n",
       "    </tr>\n",
       "    <tr>\n",
       "      <th>98</th>\n",
       "      <td>일반음식점</td>\n",
       "      <td>1989-01-13</td>\n",
       "      <td>뚝배기 양평해장국 신대방점</td>\n",
       "      <td>서울특별시 동작구 보라매로 99, 1층 (신대방동)</td>\n",
       "      <td>서울특별시 동작구 신대방동 350-9</td>\n",
       "      <td>60.66</td>\n",
       "      <td>식육(숯불구이)</td>\n",
       "      <td>보건행정과</td>\n",
       "      <td>2024-08-19</td>\n",
       "      <td>37.498165</td>\n",
       "      <td>126.927781</td>\n",
       "    </tr>\n",
       "    <tr>\n",
       "      <th>99</th>\n",
       "      <td>일반음식점</td>\n",
       "      <td>1989-03-17</td>\n",
       "      <td>원조꼬끼오숯불통닭</td>\n",
       "      <td>서울특별시 동작구 서달로10길 6 (흑석동)</td>\n",
       "      <td>서울특별시 동작구 흑석동 86-74</td>\n",
       "      <td>22.44</td>\n",
       "      <td>통닭(치킨)</td>\n",
       "      <td>보건행정과</td>\n",
       "      <td>2024-08-19</td>\n",
       "      <td>37.506435</td>\n",
       "      <td>126.961666</td>\n",
       "    </tr>\n",
       "  </tbody>\n",
       "</table>\n",
       "</div>"
      ]
     },
     "execution_count": 77,
     "metadata": {},
     "output_type": "execute_result"
    }
   ],
   "execution_count": 77
  },
  {
   "metadata": {
    "ExecuteTime": {
     "end_time": "2024-11-07T05:43:31.395784Z",
     "start_time": "2024-11-07T05:41:39.447833Z"
    }
   },
   "cell_type": "code",
   "source": [
    "driver = webdriver.Chrome()\n",
    "\n",
    "# 카카오 맵으로 이동\n",
    "url = \"https://map.kakao.com/\"\n",
    "driver.get(url)\n",
    "sample = store[50:100]\n",
    "rest_list = []\n",
    "\n",
    "for store_name, addr in zip(sample[\"업소명\"], sample[\"addr\"]):\n",
    "    # 로고 클릭해 초기화 -> 검색창 clear로 대체\n",
    "    # driver.find_element(By.XPATH, '/html/body/div[2]/div/h1/a').send_keys(Keys.ENTER)\n",
    "    \n",
    "    # 카카오맵 검색창\n",
    "    search_area = driver.find_element(By.ID, \"search.keyword.query\")\n",
    "    # 기존 검색어 제거\n",
    "    search_area.clear()\n",
    "    # 검색어 전달\n",
    "    search_area.send_keys(addr) \n",
    "    \n",
    "    # 돋보기 클릭(검색)\n",
    "    driver.find_element(By.XPATH, r'//*[@id=\"search.keyword.submit\"]').send_keys(Keys.ENTER)\n",
    "    \n",
    "    time.sleep(2)\n",
    "    try:\n",
    "        num_of_result = int(driver.find_element(By.XPATH, '/html/body/div[5]/div[2]/div[1]/div[7]/div[5]/div[1]/span/em').text)\n",
    "        num_of_result = min(5, num_of_result)\n",
    "        \n",
    "        # 결과 0건이면 이후 패스\n",
    "        if num_of_result == 0:\n",
    "            continue\n",
    "            \n",
    "        same_list = store.loc[store.addr == addr, '업소명']\n",
    "        # 결과창 A~E까지 받아옴\n",
    "        for t in range(1,num_of_result+1):\n",
    "            xpath_name = f'/html/body/div[5]/div[2]/div[1]/div[7]/div[5]/ul/li[{t}]/div[3]/strong/a[2]'\n",
    "            name = driver.find_element(By.XPATH, xpath_name).text\n",
    "    \n",
    "            try:\n",
    "                xpath_review =  f'/html/body/div[5]/div[2]/div[1]/div[7]/div[5]/ul/li[{t}]/div[4]/span[1]/a'\n",
    "                review_num = int(driver.find_element(By.XPATH, xpath_review).text[:-1])\n",
    "    \n",
    "                if name == store_name and review_num >= 2:\n",
    "                    print(f\"{name}: 음식점 저장\")\n",
    "                    rest_list.append(name)\n",
    "                    break\n",
    "\n",
    "            except:\n",
    "                pass\n",
    "    \n",
    "    except:\n",
    "        pass\n",
    "print(rest_list)"
   ],
   "id": "58d5dbf07a498c33",
   "outputs": [
    {
     "name": "stdout",
     "output_type": "stream",
     "text": [
      "성상등갈비: 음식점 저장\n",
      "잠꾸러기: 음식점 저장\n",
      "연경: 음식점 저장\n",
      "꿀꾸랄라: 음식점 저장\n",
      "향백: 음식점 저장\n",
      "성림식당: 음식점 저장\n",
      "연래춘: 음식점 저장\n",
      "태원: 음식점 저장\n",
      "우림: 음식점 저장\n",
      "부자국밥: 음식점 저장\n",
      "곽반장: 음식점 저장\n",
      "백제갈비: 음식점 저장\n",
      "다올집: 음식점 저장\n",
      "남도미가: 음식점 저장\n",
      "소품은돼지: 음식점 저장\n",
      "불난떡볶이 노량진점: 음식점 저장\n",
      "['성상등갈비', '잠꾸러기', '연경', '꿀꾸랄라', '향백', '성림식당', '연래춘', '태원', '우림', '부자국밥', '곽반장', '백제갈비', '다올집', '남도미가', '소품은돼지', '불난떡볶이 노량진점']\n"
     ]
    }
   ],
   "execution_count": 79
  },
  {
   "metadata": {
    "ExecuteTime": {
     "end_time": "2024-11-07T04:20:20.957727Z",
     "start_time": "2024-11-07T04:20:20.952727Z"
    }
   },
   "cell_type": "code",
   "source": "rest_list",
   "id": "69f3bda26ebe8851",
   "outputs": [
    {
     "data": {
      "text/plain": [
       "[]"
      ]
     },
     "execution_count": 46,
     "metadata": {},
     "output_type": "execute_result"
    }
   ],
   "execution_count": 46
  },
  {
   "metadata": {
    "ExecuteTime": {
     "end_time": "2024-11-07T07:41:38.473355Z",
     "start_time": "2024-11-07T07:41:38.467552Z"
    }
   },
   "cell_type": "code",
   "source": "# /html/body/div[2]/div[2]/div[2]/div[8]/div[3]/a/span[1]",
   "id": "3eb49c0fb804a13c",
   "outputs": [
    {
     "name": "stdout",
     "output_type": "stream",
     "text": [
      "     업종명       인허가일자         업소명                      소재지(도로명)  \\\n",
      "0  일반음식점  1967-10-10  케이에프씨 중앙대점        서울특별시 동작구 흑석로 94 (흑석동)   \n",
      "1  일반음식점  1972-04-14         안동장     서울특별시 동작구 흑석로 105-1 (흑석동)   \n",
      "2  일반음식점  1975-05-15       바다회센타  서울특별시 동작구 동작대로27길 20-7 (사당동)   \n",
      "3  일반음식점  1975-06-17        신부양각       서울특별시 동작구 양녕로 191 (상도동)   \n",
      "4  일반음식점  1976-02-16        순대나라     서울특별시 동작구 서달로12가길 5 (흑석동)   \n",
      "\n",
      "                     addr  영업장면적(건물내_외부)  업태명   담당부서     데이터기준일자   latitude  \\\n",
      "0    서울특별시 동작구 흑석동 223-1          163.96   기타  보건행정과  2024-08-19  37.507262   \n",
      "1   서울특별시 동작구 흑석동 184-18          321.03  중국식  보건행정과  2024-08-19  37.508251   \n",
      "2   서울특별시 동작구 사당동 130-16           71.41   일식  보건행정과  2024-08-19  37.487893   \n",
      "3  서울특별시 동작구 상도동 210-202           91.84  중국식  보건행정과  2024-08-19  37.498381   \n",
      "4    서울특별시 동작구 흑석동 97-22           25.50   한식  보건행정과  2024-08-19  37.506608   \n",
      "\n",
      "    longitude  \n",
      "0  126.959988  \n",
      "1  126.960935  \n",
      "2  126.980722  \n",
      "3  126.943482  \n",
      "4  126.962693  \n"
     ]
    }
   ],
   "execution_count": 102
  },
  {
   "metadata": {
    "ExecuteTime": {
     "end_time": "2024-11-07T07:56:59.910096Z",
     "start_time": "2024-11-07T07:55:53.298532Z"
    }
   },
   "cell_type": "code",
   "source": [
    "driver = webdriver.Chrome()\n",
    "\n",
    "# 카카오 맵으로 이동\n",
    "url = \"https://map.kakao.com/\"\n",
    "driver.get(url)\n",
    "sample = store[:10]\n",
    "rest_list = []\n",
    "\n",
    "for store_name, addr in zip(sample[\"업소명\"], sample[\"addr\"]):    \n",
    "    # 카카오맵 검색창\n",
    "    search_area = driver.find_element(By.ID, \"search.keyword.query\")\n",
    "    # 기존 검색어 제거\n",
    "    search_area.clear()\n",
    "    # 검색어 전달\n",
    "    search_area.send_keys(addr) \n",
    "    \n",
    "    # 돋보기 클릭(검색)\n",
    "    driver.find_element(By.XPATH, r'//*[@id=\"search.keyword.submit\"]').send_keys(Keys.ENTER)\n",
    "    \n",
    "    time.sleep(2)\n",
    "    \n",
    "    num_of_result = int(driver.find_element(By.XPATH, '/html/body/div[5]/div[2]/div[1]/div[7]/div[5]/div[1]/span/em').text)\n",
    "    num_of_result = min(5, num_of_result)\n",
    "    \n",
    "    # 결과 0건이면 이후 패스\n",
    "    if num_of_result == 0:\n",
    "        continue\n",
    "        \n",
    "    same_list = store.loc[store.addr == addr, '업소명']\n",
    "    # 결과창 A~E까지 받아옴\n",
    "    for t in range(1,num_of_result+1):\n",
    "        xpath_name = f'/html/body/div[5]/div[2]/div[1]/div[7]/div[5]/ul/li[{t}]/div[3]/strong/a[2]'\n",
    "        name = driver.find_element(By.XPATH, xpath_name).text\n",
    "        \n",
    "        temp = dict()\n",
    "        try:\n",
    "            xpath_review =  f'/html/body/div[5]/div[2]/div[1]/div[7]/div[5]/ul/li[{t}]/div[4]/span[1]/a'\n",
    "            review_num = int(driver.find_element(By.XPATH, xpath_review).text[:-1])\n",
    "            \n",
    "            xpath_score = f'/html/body/div[5]/div[2]/div[1]/div[7]/div[5]/ul/li[{t}]/div[4]/span[1]/em'\n",
    "            score = float(driver.find_element(By.XPATH, xpath_score).text)\n",
    "\n",
    "            if name == store_name and review_num >= 5:\n",
    "                print(f\"{name}: 음식점 저장 --- {score}점(리뷰 {review_num}개)\")\n",
    "\n",
    "                temp[\"store_name\"] = store_name\n",
    "                temp[\"addr\"] = addr\n",
    "                temp[\"score\"] = score\n",
    "                \n",
    "                ### 리뷰 크롤링\n",
    "                # 리뷰 건수를 눌러서 리뷰 탭으로 이동\n",
    "                driver.find_element(By.XPATH, xpath_review).send_keys(Keys.ENTER)\n",
    "                # driver.switch_to.window(driver.window_handles[-1])\n",
    "                time.sleep(10)\n",
    "                \n",
    "        except:\n",
    "            # 다시 검색창으로 이동\n",
    "            driver.switch_to.window(driver.window_handles[0])\n",
    "            time.sleep(2)\n",
    "            pass"
   ],
   "id": "c5d6701564c9f0a8",
   "outputs": [
    {
     "name": "stdout",
     "output_type": "stream",
     "text": [
      "안동장: 음식점 저장 --- 2.4점(리뷰 55개)\n",
      "신부양각: 음식점 저장 --- 4.4점(리뷰 9개)\n",
      "순대나라: 음식점 저장 --- 4.4점(리뷰 39개)\n",
      "우슬재: 음식점 저장 --- 4.4점(리뷰 7개)\n"
     ]
    }
   ],
   "execution_count": 112
  },
  {
   "metadata": {
    "ExecuteTime": {
     "end_time": "2024-11-08T01:09:20.636998Z",
     "start_time": "2024-11-08T01:09:20.630592Z"
    }
   },
   "cell_type": "code",
   "source": [
    "def save_reviews(url):\n",
    "    \"\"\"\n",
    "    :param url: 리뷰 추출할 웹 사이트 주소\n",
    "    :return: 리뷰들 리스트\n",
    "    \"\"\"\n",
    "    review_dict = {}\n",
    "    driver = webdriver.Chrome()\n",
    "    driver.get(url)\n",
    "    time.sleep(2)\n",
    "    try:    \n",
    "        while True:\n",
    "            # 후기 더보기 버튼이 있으면 계속 반복\n",
    "            try:\n",
    "                txt_more = driver.find_element(By.XPATH, '//span[@class=\"txt_more\" and contains(text(), \"후기 더보기\")]')\n",
    "                link_more_button = txt_more.find_element(By.XPATH, './ancestor::a[contains(@class, \"link_more\")]')\n",
    "                time.sleep(.5)\n",
    "                \n",
    "                if link_more_button and link_more_button.text != \"후기 접기\":\n",
    "                    link_more_button.click()\n",
    "                    # print(\"후기 더보기 클릭\")\n",
    "            \n",
    "            # 없으면 탈출\n",
    "            except:\n",
    "                break\n",
    "\n",
    "    except:\n",
    "        print(\"후기 더보기 버튼 없음\")\n",
    "    \n",
    "    # 리뷰들 긁어오기 \n",
    "    reviews = driver.find_elements(By.CLASS_NAME, 'txt_comment')\n",
    "    for review in reviews:\n",
    "        # 더보기 죽이기\n",
    "        txt = review.text.replace(\"더보기\",\"\")\n",
    "        review_dict.add(txt)\n",
    "        \n",
    "    return review_dict"
   ],
   "id": "d9b6d0499db69acb",
   "outputs": [],
   "execution_count": 33
  },
  {
   "metadata": {
    "ExecuteTime": {
     "end_time": "2024-11-08T01:12:04.559974Z",
     "start_time": "2024-11-08T01:11:58.962949Z"
    }
   },
   "cell_type": "code",
   "source": [
    "# driver = webdriver.Chrome()\n",
    "# url = \"https://place.map.kakao.com/929624344\"             # 리뷰 많음\n",
    "# # url = \"https://place.map.kakao.com/1841716590#comment\"      # 카츠진\n",
    "# # url = \"https://place.map.kakao.com/22455352\"            # 리뷰 3개\n",
    "# driver.get(url)\n",
    "# time.sleep(2)\n",
    "# txt_more = None\n",
    "\n",
    "test_dict = save_reviews(\"https://place.map.kakao.com/22455352\")\n",
    "print(test_dict)\n",
    "for text in test_dict:\n",
    "    print(text)\n",
    "\n",
    "    \n",
    "\n",
    "\n",
    "\n",
    "\n"
   ],
   "id": "cbb806d3d023c360",
   "outputs": [
    {
     "name": "stdout",
     "output_type": "stream",
     "text": [
      "['양다리는 30분전에만 예약하면 된다셔서 가기전에 예약하고 가니 딱 맞게 세팅해놓으셨어요\\n2인이였는데 8만원짜리 나왔구 엄청 배부르게먹고 포장해서 다음날까지 먹었어요\\n3인이서 시키시면 알맞을거같아요\\n\\n불 거의 나갈때쯤엔 사장님께서 썰어주시고 포장도 가능해요~! 서비스로 만두도 주셨는데 만두는 만두피가 두꺼워서 별로요\\n반찬으로나오는 면두부 무침 맛있어요\\n', '', '역시 숨겨진 맛집이라 리뷰가 없네요\\n중국손님들이 많고 장소가 협소합니다만\\n사장님부부가 친절하고 양다리도 맛있어요\\n한국손님위주가 장사 아니라서 많은 기대하면 x\\n손님이 많아서  저녁시간엔 예약안하면 힘듭니다 \\n양다리는 최소한 3시간 전에 예약필수\\n']\n",
      "양다리는 30분전에만 예약하면 된다셔서 가기전에 예약하고 가니 딱 맞게 세팅해놓으셨어요\n",
      "2인이였는데 8만원짜리 나왔구 엄청 배부르게먹고 포장해서 다음날까지 먹었어요\n",
      "3인이서 시키시면 알맞을거같아요\n",
      "\n",
      "불 거의 나갈때쯤엔 사장님께서 썰어주시고 포장도 가능해요~! 서비스로 만두도 주셨는데 만두는 만두피가 두꺼워서 별로요\n",
      "반찬으로나오는 면두부 무침 맛있어요\n",
      "\n",
      "\n",
      "역시 숨겨진 맛집이라 리뷰가 없네요\n",
      "중국손님들이 많고 장소가 협소합니다만\n",
      "사장님부부가 친절하고 양다리도 맛있어요\n",
      "한국손님위주가 장사 아니라서 많은 기대하면 x\n",
      "손님이 많아서  저녁시간엔 예약안하면 힘듭니다 \n",
      "양다리는 최소한 3시간 전에 예약필수\n",
      "\n"
     ]
    }
   ],
   "execution_count": 38
  },
  {
   "metadata": {
    "ExecuteTime": {
     "end_time": "2024-11-06T08:41:20.404875Z",
     "start_time": "2024-11-06T08:41:20.400383Z"
    }
   },
   "cell_type": "code",
   "outputs": [],
   "execution_count": 19,
   "source": "rest_list = []",
   "id": "d32b5d8b735f0df9"
  },
  {
   "metadata": {},
   "cell_type": "code",
   "outputs": [],
   "execution_count": null,
   "source": "",
   "id": "94f68ce4f2d16a9d"
  }
 ],
 "metadata": {
  "kernelspec": {
   "display_name": "Python 3",
   "language": "python",
   "name": "python3"
  },
  "language_info": {
   "codemirror_mode": {
    "name": "ipython",
    "version": 2
   },
   "file_extension": ".py",
   "mimetype": "text/x-python",
   "name": "python",
   "nbconvert_exporter": "python",
   "pygments_lexer": "ipython2",
   "version": "2.7.6"
  }
 },
 "nbformat": 4,
 "nbformat_minor": 5
}
